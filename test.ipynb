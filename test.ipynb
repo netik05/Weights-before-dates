{
 "cells": [
  {
   "cell_type": "code",
   "execution_count": null,
   "id": "fa810eee",
   "metadata": {},
   "outputs": [
    {
     "name": "stdout",
     "output_type": "stream",
     "text": [
      "Weighted log-loss for test set 1: 0.222536\n",
      "Weighted log-loss for test set 2: 0.213751\n"
     ]
    }
   ],
   "source": [
    "import numpy as np\n",
    "import zipfile\n",
    "\n",
    "# 1. Unzip your submission\n",
    "ZIP_NAME = 'weights_before_dates.zip'\n",
    "EXTRACT_DIR = 'predictions/mlp'\n",
    "\n",
    "with zipfile.ZipFile(ZIP_NAME, 'r') as z:\n",
    "    z.extractall(EXTRACT_DIR)\n",
    "\n",
    "# 2. Load predictions\n",
    "preds_1 = np.load(f'{EXTRACT_DIR}/preds_1.npy')\n",
    "preds_2 = np.load(f'{EXTRACT_DIR}/preds_2.npy')\n",
    "\n",
    "# 3. Sanity‐check shapes\n",
    "if preds_1.shape != (1000, 28):\n",
    "    raise ValueError(f'preds_1 has size {preds_1.shape}, but expected (1000, 28)')\n",
    "if preds_2.shape != (1818, 28):\n",
    "    raise ValueError(f'preds_2 has size {preds_2.shape}, but expected (1818, 28)')\n",
    "\n",
    "# 4. Define weighted log-loss\n",
    "def weighted_log_loss(y_true: np.ndarray, y_pred: np.ndarray) -> float:\n",
    "    \"\"\"\n",
    "    Compute weighted cross-entropy loss:\n",
    "      L = - mean_i [ w_{y_i} * log(p_{i, y_i}) ]\n",
    "    where w_c = 1 / f_c, then normalized to sum to 1 over classes.\n",
    "    \"\"\"\n",
    "    # class frequencies and weights\n",
    "    class_counts = y_true.sum(axis=0)                # shape (28,)\n",
    "    class_weights = 1.0 / class_counts               # inverse freq\n",
    "    class_weights /= class_weights.sum()             # normalize\n",
    "\n",
    "    # per-sample weight = weight of the true class\n",
    "    sample_weights = (y_true * class_weights).sum(axis=1)  # shape (N,)\n",
    "\n",
    "    # log-prob of the true class for each sample\n",
    "    log_ps = (y_true * np.log(y_pred)).sum(axis=1)        # shape (N,)\n",
    "\n",
    "    # weighted average negative log‐likelihood\n",
    "    return - np.mean(sample_weights * log_ps)\n",
    "\n",
    "# 5. (Optional) Dummy one-hot labels so code runs end-to-end\n",
    "y_test_1_oh = (np.arange(28) == np.random.choice(28, size=1000)[:, None]).astype(int)\n",
    "y_test_2_oh = (np.arange(28) == np.random.choice(28, size=1818)[:, None]).astype(int)\n",
    "\n",
    "# 6. Compute and print losses\n",
    "loss_1 = weighted_log_loss(y_test_1_oh, preds_1)\n",
    "loss_2 = weighted_log_loss(y_test_2_oh, preds_2)\n",
    "\n",
    "print(f'Weighted log-loss for test set 1: {loss_1:.6f}')\n",
    "print(f'Weighted log-loss for test set 2: {loss_2:.6f}')\n"
   ]
  }
 ],
 "metadata": {
  "kernelspec": {
   "display_name": "base",
   "language": "python",
   "name": "python3"
  },
  "language_info": {
   "codemirror_mode": {
    "name": "ipython",
    "version": 3
   },
   "file_extension": ".py",
   "mimetype": "text/x-python",
   "name": "python",
   "nbconvert_exporter": "python",
   "pygments_lexer": "ipython3",
   "version": "3.11.5"
  }
 },
 "nbformat": 4,
 "nbformat_minor": 5
}
